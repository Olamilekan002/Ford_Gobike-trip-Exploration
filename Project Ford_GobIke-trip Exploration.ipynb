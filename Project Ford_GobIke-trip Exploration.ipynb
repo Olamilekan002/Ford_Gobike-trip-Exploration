{
 "cells": [
  {
   "cell_type": "markdown",
   "metadata": {},
   "source": [
    "# Ford_gobike-trip Data Exploration\n",
    "## by Olamilekan Omotosho\n",
    "\n",
    "## Introduction\n",
    "> This data set includes information about individual rides made in a bike-sharing system covering the greater San Francisco Bay area. The data was recorded in February 2019 with 183412 records and 16 features. \n",
    "\n",
    "\n",
    "\n",
    "## Preliminary Wrangling\n"
   ]
  },
  {
   "cell_type": "code",
   "execution_count": 1,
   "metadata": {},
   "outputs": [],
   "source": [
    "# import all packages and set plots to be embedded inline\n",
    "import numpy as np\n",
    "import pandas as pd\n",
    "import matplotlib.pyplot as plt\n",
    "import seaborn as sns\n",
    "import warnings\n",
    "warnings.filterwarnings('ignore')\n",
    "\n",
    "%matplotlib inline"
   ]
  },
  {
   "cell_type": "code",
   "execution_count": 2,
   "metadata": {},
   "outputs": [],
   "source": [
    "#loading data\n",
    "bike = pd.read_csv('201902-fordgobike-tripdata.csv')"
   ]
  },
  {
   "cell_type": "code",
   "execution_count": 3,
   "metadata": {},
   "outputs": [
    {
     "data": {
      "text/html": [
       "<div>\n",
       "<style scoped>\n",
       "    .dataframe tbody tr th:only-of-type {\n",
       "        vertical-align: middle;\n",
       "    }\n",
       "\n",
       "    .dataframe tbody tr th {\n",
       "        vertical-align: top;\n",
       "    }\n",
       "\n",
       "    .dataframe thead th {\n",
       "        text-align: right;\n",
       "    }\n",
       "</style>\n",
       "<table border=\"1\" class=\"dataframe\">\n",
       "  <thead>\n",
       "    <tr style=\"text-align: right;\">\n",
       "      <th></th>\n",
       "      <th>duration_sec</th>\n",
       "      <th>start_time</th>\n",
       "      <th>end_time</th>\n",
       "      <th>start_station_id</th>\n",
       "      <th>start_station_name</th>\n",
       "      <th>start_station_latitude</th>\n",
       "      <th>start_station_longitude</th>\n",
       "      <th>end_station_id</th>\n",
       "      <th>end_station_name</th>\n",
       "      <th>end_station_latitude</th>\n",
       "      <th>end_station_longitude</th>\n",
       "      <th>bike_id</th>\n",
       "      <th>user_type</th>\n",
       "      <th>member_birth_year</th>\n",
       "      <th>member_gender</th>\n",
       "      <th>bike_share_for_all_trip</th>\n",
       "    </tr>\n",
       "  </thead>\n",
       "  <tbody>\n",
       "    <tr>\n",
       "      <th>0</th>\n",
       "      <td>52185</td>\n",
       "      <td>2019-02-28 17:32:10.1450</td>\n",
       "      <td>2019-03-01 08:01:55.9750</td>\n",
       "      <td>21.0</td>\n",
       "      <td>Montgomery St BART Station (Market St at 2nd St)</td>\n",
       "      <td>37.789625</td>\n",
       "      <td>-122.400811</td>\n",
       "      <td>13.0</td>\n",
       "      <td>Commercial St at Montgomery St</td>\n",
       "      <td>37.794231</td>\n",
       "      <td>-122.402923</td>\n",
       "      <td>4902</td>\n",
       "      <td>Customer</td>\n",
       "      <td>1984.0</td>\n",
       "      <td>Male</td>\n",
       "      <td>No</td>\n",
       "    </tr>\n",
       "    <tr>\n",
       "      <th>1</th>\n",
       "      <td>42521</td>\n",
       "      <td>2019-02-28 18:53:21.7890</td>\n",
       "      <td>2019-03-01 06:42:03.0560</td>\n",
       "      <td>23.0</td>\n",
       "      <td>The Embarcadero at Steuart St</td>\n",
       "      <td>37.791464</td>\n",
       "      <td>-122.391034</td>\n",
       "      <td>81.0</td>\n",
       "      <td>Berry St at 4th St</td>\n",
       "      <td>37.775880</td>\n",
       "      <td>-122.393170</td>\n",
       "      <td>2535</td>\n",
       "      <td>Customer</td>\n",
       "      <td>NaN</td>\n",
       "      <td>NaN</td>\n",
       "      <td>No</td>\n",
       "    </tr>\n",
       "    <tr>\n",
       "      <th>2</th>\n",
       "      <td>61854</td>\n",
       "      <td>2019-02-28 12:13:13.2180</td>\n",
       "      <td>2019-03-01 05:24:08.1460</td>\n",
       "      <td>86.0</td>\n",
       "      <td>Market St at Dolores St</td>\n",
       "      <td>37.769305</td>\n",
       "      <td>-122.426826</td>\n",
       "      <td>3.0</td>\n",
       "      <td>Powell St BART Station (Market St at 4th St)</td>\n",
       "      <td>37.786375</td>\n",
       "      <td>-122.404904</td>\n",
       "      <td>5905</td>\n",
       "      <td>Customer</td>\n",
       "      <td>1972.0</td>\n",
       "      <td>Male</td>\n",
       "      <td>No</td>\n",
       "    </tr>\n",
       "    <tr>\n",
       "      <th>3</th>\n",
       "      <td>36490</td>\n",
       "      <td>2019-02-28 17:54:26.0100</td>\n",
       "      <td>2019-03-01 04:02:36.8420</td>\n",
       "      <td>375.0</td>\n",
       "      <td>Grove St at Masonic Ave</td>\n",
       "      <td>37.774836</td>\n",
       "      <td>-122.446546</td>\n",
       "      <td>70.0</td>\n",
       "      <td>Central Ave at Fell St</td>\n",
       "      <td>37.773311</td>\n",
       "      <td>-122.444293</td>\n",
       "      <td>6638</td>\n",
       "      <td>Subscriber</td>\n",
       "      <td>1989.0</td>\n",
       "      <td>Other</td>\n",
       "      <td>No</td>\n",
       "    </tr>\n",
       "    <tr>\n",
       "      <th>4</th>\n",
       "      <td>1585</td>\n",
       "      <td>2019-02-28 23:54:18.5490</td>\n",
       "      <td>2019-03-01 00:20:44.0740</td>\n",
       "      <td>7.0</td>\n",
       "      <td>Frank H Ogawa Plaza</td>\n",
       "      <td>37.804562</td>\n",
       "      <td>-122.271738</td>\n",
       "      <td>222.0</td>\n",
       "      <td>10th Ave at E 15th St</td>\n",
       "      <td>37.792714</td>\n",
       "      <td>-122.248780</td>\n",
       "      <td>4898</td>\n",
       "      <td>Subscriber</td>\n",
       "      <td>1974.0</td>\n",
       "      <td>Male</td>\n",
       "      <td>Yes</td>\n",
       "    </tr>\n",
       "  </tbody>\n",
       "</table>\n",
       "</div>"
      ],
      "text/plain": [
       "   duration_sec                start_time                  end_time  \\\n",
       "0         52185  2019-02-28 17:32:10.1450  2019-03-01 08:01:55.9750   \n",
       "1         42521  2019-02-28 18:53:21.7890  2019-03-01 06:42:03.0560   \n",
       "2         61854  2019-02-28 12:13:13.2180  2019-03-01 05:24:08.1460   \n",
       "3         36490  2019-02-28 17:54:26.0100  2019-03-01 04:02:36.8420   \n",
       "4          1585  2019-02-28 23:54:18.5490  2019-03-01 00:20:44.0740   \n",
       "\n",
       "   start_station_id                                start_station_name  \\\n",
       "0              21.0  Montgomery St BART Station (Market St at 2nd St)   \n",
       "1              23.0                     The Embarcadero at Steuart St   \n",
       "2              86.0                           Market St at Dolores St   \n",
       "3             375.0                           Grove St at Masonic Ave   \n",
       "4               7.0                               Frank H Ogawa Plaza   \n",
       "\n",
       "   start_station_latitude  start_station_longitude  end_station_id  \\\n",
       "0               37.789625              -122.400811            13.0   \n",
       "1               37.791464              -122.391034            81.0   \n",
       "2               37.769305              -122.426826             3.0   \n",
       "3               37.774836              -122.446546            70.0   \n",
       "4               37.804562              -122.271738           222.0   \n",
       "\n",
       "                               end_station_name  end_station_latitude  \\\n",
       "0                Commercial St at Montgomery St             37.794231   \n",
       "1                            Berry St at 4th St             37.775880   \n",
       "2  Powell St BART Station (Market St at 4th St)             37.786375   \n",
       "3                        Central Ave at Fell St             37.773311   \n",
       "4                         10th Ave at E 15th St             37.792714   \n",
       "\n",
       "   end_station_longitude  bike_id   user_type  member_birth_year  \\\n",
       "0            -122.402923     4902    Customer             1984.0   \n",
       "1            -122.393170     2535    Customer                NaN   \n",
       "2            -122.404904     5905    Customer             1972.0   \n",
       "3            -122.444293     6638  Subscriber             1989.0   \n",
       "4            -122.248780     4898  Subscriber             1974.0   \n",
       "\n",
       "  member_gender bike_share_for_all_trip  \n",
       "0          Male                      No  \n",
       "1           NaN                      No  \n",
       "2          Male                      No  \n",
       "3         Other                      No  \n",
       "4          Male                     Yes  "
      ]
     },
     "execution_count": 3,
     "metadata": {},
     "output_type": "execute_result"
    }
   ],
   "source": [
    "#top 5 rows\n",
    "bike.head()"
   ]
  },
  {
   "cell_type": "code",
   "execution_count": 4,
   "metadata": {},
   "outputs": [
    {
     "data": {
      "text/plain": [
       "(183412, 16)"
      ]
     },
     "execution_count": 4,
     "metadata": {},
     "output_type": "execute_result"
    }
   ],
   "source": [
    "#data row and column\n",
    "bike.shape"
   ]
  },
  {
   "cell_type": "code",
   "execution_count": 5,
   "metadata": {
    "scrolled": true
   },
   "outputs": [
    {
     "data": {
      "text/plain": [
       "duration_sec                 int64\n",
       "start_time                  object\n",
       "end_time                    object\n",
       "start_station_id           float64\n",
       "start_station_name          object\n",
       "start_station_latitude     float64\n",
       "start_station_longitude    float64\n",
       "end_station_id             float64\n",
       "end_station_name            object\n",
       "end_station_latitude       float64\n",
       "end_station_longitude      float64\n",
       "bike_id                      int64\n",
       "user_type                   object\n",
       "member_birth_year          float64\n",
       "member_gender               object\n",
       "bike_share_for_all_trip     object\n",
       "dtype: object"
      ]
     },
     "execution_count": 5,
     "metadata": {},
     "output_type": "execute_result"
    }
   ],
   "source": [
    "#data types\n",
    "bike.dtypes"
   ]
  },
  {
   "cell_type": "code",
   "execution_count": 6,
   "metadata": {},
   "outputs": [
    {
     "data": {
      "text/plain": [
       "duration_sec                        int64\n",
       "start_time                 datetime64[ns]\n",
       "end_time                   datetime64[ns]\n",
       "start_station_id                   object\n",
       "start_station_name                 object\n",
       "start_station_latitude            float64\n",
       "start_station_longitude           float64\n",
       "end_station_id                     object\n",
       "end_station_name                   object\n",
       "end_station_latitude              float64\n",
       "end_station_longitude             float64\n",
       "bike_id                            object\n",
       "user_type                          object\n",
       "member_birth_year                 float64\n",
       "member_gender                      object\n",
       "bike_share_for_all_trip            object\n",
       "dtype: object"
      ]
     },
     "execution_count": 6,
     "metadata": {},
     "output_type": "execute_result"
    }
   ],
   "source": [
    "#convert columns to the right datatype\n",
    "datetime_cols = ['start_time', 'end_time']\n",
    "id_cols = ['start_station_id', 'end_station_id', 'bike_id']\n",
    "\n",
    "for col in datetime_cols:\n",
    "    bike[col] = pd.to_datetime(bike[col])\n",
    "    \n",
    "for col in id_cols:\n",
    "    bike[col] = bike[col].astype(str)\n",
    "    \n",
    "# bike['member_birth_year'] = bike['member_birth_year'].astype(int)\n",
    "    \n",
    "bike.dtypes"
   ]
  },
  {
   "cell_type": "markdown",
   "metadata": {},
   "source": [
    "### Extract Start Time Day Period and Hour"
   ]
  },
  {
   "cell_type": "code",
   "execution_count": 7,
   "metadata": {},
   "outputs": [],
   "source": [
    "#duration in hour\n",
    "bike['hour'] = bike.start_time.dt.hour\n",
    "\n",
    "#function to extract period\n",
    "def period(x):\n",
    "    if (x >= 4) and (x <= 12):\n",
    "        return 'Morning'\n",
    "    elif (x > 12) and (x < 17):\n",
    "        return 'Afternoon'\n",
    "    elif (x >= 17) and (x <= 21):\n",
    "        return 'Evening'\n",
    "    else:\n",
    "        return 'Night'\n",
    "\n",
    "#extract the day period\n",
    "#Morning, Afternoon, Evening and Night\n",
    "\n",
    "bike['day_period'] = bike.hour.apply(period)"
   ]
  },
  {
   "cell_type": "code",
   "execution_count": 8,
   "metadata": {
    "scrolled": true
   },
   "outputs": [
    {
     "data": {
      "text/html": [
       "<div>\n",
       "<style scoped>\n",
       "    .dataframe tbody tr th:only-of-type {\n",
       "        vertical-align: middle;\n",
       "    }\n",
       "\n",
       "    .dataframe tbody tr th {\n",
       "        vertical-align: top;\n",
       "    }\n",
       "\n",
       "    .dataframe thead th {\n",
       "        text-align: right;\n",
       "    }\n",
       "</style>\n",
       "<table border=\"1\" class=\"dataframe\">\n",
       "  <thead>\n",
       "    <tr style=\"text-align: right;\">\n",
       "      <th></th>\n",
       "      <th>duration_sec</th>\n",
       "      <th>start_time</th>\n",
       "      <th>end_time</th>\n",
       "      <th>start_station_id</th>\n",
       "      <th>start_station_name</th>\n",
       "      <th>start_station_latitude</th>\n",
       "      <th>start_station_longitude</th>\n",
       "      <th>end_station_id</th>\n",
       "      <th>end_station_name</th>\n",
       "      <th>end_station_latitude</th>\n",
       "      <th>end_station_longitude</th>\n",
       "      <th>bike_id</th>\n",
       "      <th>user_type</th>\n",
       "      <th>member_birth_year</th>\n",
       "      <th>member_gender</th>\n",
       "      <th>bike_share_for_all_trip</th>\n",
       "      <th>hour</th>\n",
       "      <th>day_period</th>\n",
       "    </tr>\n",
       "  </thead>\n",
       "  <tbody>\n",
       "    <tr>\n",
       "      <th>0</th>\n",
       "      <td>52185</td>\n",
       "      <td>2019-02-28 17:32:10.145</td>\n",
       "      <td>2019-03-01 08:01:55.975</td>\n",
       "      <td>21.0</td>\n",
       "      <td>Montgomery St BART Station (Market St at 2nd St)</td>\n",
       "      <td>37.789625</td>\n",
       "      <td>-122.400811</td>\n",
       "      <td>13.0</td>\n",
       "      <td>Commercial St at Montgomery St</td>\n",
       "      <td>37.794231</td>\n",
       "      <td>-122.402923</td>\n",
       "      <td>4902</td>\n",
       "      <td>Customer</td>\n",
       "      <td>1984.0</td>\n",
       "      <td>Male</td>\n",
       "      <td>No</td>\n",
       "      <td>17</td>\n",
       "      <td>Evening</td>\n",
       "    </tr>\n",
       "    <tr>\n",
       "      <th>1</th>\n",
       "      <td>42521</td>\n",
       "      <td>2019-02-28 18:53:21.789</td>\n",
       "      <td>2019-03-01 06:42:03.056</td>\n",
       "      <td>23.0</td>\n",
       "      <td>The Embarcadero at Steuart St</td>\n",
       "      <td>37.791464</td>\n",
       "      <td>-122.391034</td>\n",
       "      <td>81.0</td>\n",
       "      <td>Berry St at 4th St</td>\n",
       "      <td>37.775880</td>\n",
       "      <td>-122.393170</td>\n",
       "      <td>2535</td>\n",
       "      <td>Customer</td>\n",
       "      <td>NaN</td>\n",
       "      <td>NaN</td>\n",
       "      <td>No</td>\n",
       "      <td>18</td>\n",
       "      <td>Evening</td>\n",
       "    </tr>\n",
       "    <tr>\n",
       "      <th>2</th>\n",
       "      <td>61854</td>\n",
       "      <td>2019-02-28 12:13:13.218</td>\n",
       "      <td>2019-03-01 05:24:08.146</td>\n",
       "      <td>86.0</td>\n",
       "      <td>Market St at Dolores St</td>\n",
       "      <td>37.769305</td>\n",
       "      <td>-122.426826</td>\n",
       "      <td>3.0</td>\n",
       "      <td>Powell St BART Station (Market St at 4th St)</td>\n",
       "      <td>37.786375</td>\n",
       "      <td>-122.404904</td>\n",
       "      <td>5905</td>\n",
       "      <td>Customer</td>\n",
       "      <td>1972.0</td>\n",
       "      <td>Male</td>\n",
       "      <td>No</td>\n",
       "      <td>12</td>\n",
       "      <td>Morning</td>\n",
       "    </tr>\n",
       "    <tr>\n",
       "      <th>3</th>\n",
       "      <td>36490</td>\n",
       "      <td>2019-02-28 17:54:26.010</td>\n",
       "      <td>2019-03-01 04:02:36.842</td>\n",
       "      <td>375.0</td>\n",
       "      <td>Grove St at Masonic Ave</td>\n",
       "      <td>37.774836</td>\n",
       "      <td>-122.446546</td>\n",
       "      <td>70.0</td>\n",
       "      <td>Central Ave at Fell St</td>\n",
       "      <td>37.773311</td>\n",
       "      <td>-122.444293</td>\n",
       "      <td>6638</td>\n",
       "      <td>Subscriber</td>\n",
       "      <td>1989.0</td>\n",
       "      <td>Other</td>\n",
       "      <td>No</td>\n",
       "      <td>17</td>\n",
       "      <td>Evening</td>\n",
       "    </tr>\n",
       "    <tr>\n",
       "      <th>4</th>\n",
       "      <td>1585</td>\n",
       "      <td>2019-02-28 23:54:18.549</td>\n",
       "      <td>2019-03-01 00:20:44.074</td>\n",
       "      <td>7.0</td>\n",
       "      <td>Frank H Ogawa Plaza</td>\n",
       "      <td>37.804562</td>\n",
       "      <td>-122.271738</td>\n",
       "      <td>222.0</td>\n",
       "      <td>10th Ave at E 15th St</td>\n",
       "      <td>37.792714</td>\n",
       "      <td>-122.248780</td>\n",
       "      <td>4898</td>\n",
       "      <td>Subscriber</td>\n",
       "      <td>1974.0</td>\n",
       "      <td>Male</td>\n",
       "      <td>Yes</td>\n",
       "      <td>23</td>\n",
       "      <td>Night</td>\n",
       "    </tr>\n",
       "  </tbody>\n",
       "</table>\n",
       "</div>"
      ],
      "text/plain": [
       "   duration_sec              start_time                end_time  \\\n",
       "0         52185 2019-02-28 17:32:10.145 2019-03-01 08:01:55.975   \n",
       "1         42521 2019-02-28 18:53:21.789 2019-03-01 06:42:03.056   \n",
       "2         61854 2019-02-28 12:13:13.218 2019-03-01 05:24:08.146   \n",
       "3         36490 2019-02-28 17:54:26.010 2019-03-01 04:02:36.842   \n",
       "4          1585 2019-02-28 23:54:18.549 2019-03-01 00:20:44.074   \n",
       "\n",
       "  start_station_id                                start_station_name  \\\n",
       "0             21.0  Montgomery St BART Station (Market St at 2nd St)   \n",
       "1             23.0                     The Embarcadero at Steuart St   \n",
       "2             86.0                           Market St at Dolores St   \n",
       "3            375.0                           Grove St at Masonic Ave   \n",
       "4              7.0                               Frank H Ogawa Plaza   \n",
       "\n",
       "   start_station_latitude  start_station_longitude end_station_id  \\\n",
       "0               37.789625              -122.400811           13.0   \n",
       "1               37.791464              -122.391034           81.0   \n",
       "2               37.769305              -122.426826            3.0   \n",
       "3               37.774836              -122.446546           70.0   \n",
       "4               37.804562              -122.271738          222.0   \n",
       "\n",
       "                               end_station_name  end_station_latitude  \\\n",
       "0                Commercial St at Montgomery St             37.794231   \n",
       "1                            Berry St at 4th St             37.775880   \n",
       "2  Powell St BART Station (Market St at 4th St)             37.786375   \n",
       "3                        Central Ave at Fell St             37.773311   \n",
       "4                         10th Ave at E 15th St             37.792714   \n",
       "\n",
       "   end_station_longitude bike_id   user_type  member_birth_year member_gender  \\\n",
       "0            -122.402923    4902    Customer             1984.0          Male   \n",
       "1            -122.393170    2535    Customer                NaN           NaN   \n",
       "2            -122.404904    5905    Customer             1972.0          Male   \n",
       "3            -122.444293    6638  Subscriber             1989.0         Other   \n",
       "4            -122.248780    4898  Subscriber             1974.0          Male   \n",
       "\n",
       "  bike_share_for_all_trip  hour day_period  \n",
       "0                      No    17    Evening  \n",
       "1                      No    18    Evening  \n",
       "2                      No    12    Morning  \n",
       "3                      No    17    Evening  \n",
       "4                     Yes    23      Night  "
      ]
     },
     "execution_count": 8,
     "metadata": {},
     "output_type": "execute_result"
    }
   ],
   "source": [
    "bike.head()"
   ]
  },
  {
   "cell_type": "markdown",
   "metadata": {},
   "source": [
    "### Extract User Age"
   ]
  },
  {
   "cell_type": "code",
   "execution_count": 9,
   "metadata": {},
   "outputs": [],
   "source": [
    "#get the user age from the present year(2022)\n",
    "bike['age'] = 2022 - bike['member_birth_year']"
   ]
  },
  {
   "cell_type": "code",
   "execution_count": 10,
   "metadata": {
    "scrolled": true
   },
   "outputs": [
    {
     "data": {
      "text/plain": [
       "0         38.0\n",
       "1          NaN\n",
       "2         50.0\n",
       "3         33.0\n",
       "4         48.0\n",
       "          ... \n",
       "183407    26.0\n",
       "183408    38.0\n",
       "183409    32.0\n",
       "183410    34.0\n",
       "183411    33.0\n",
       "Name: age, Length: 183412, dtype: float64"
      ]
     },
     "execution_count": 10,
     "metadata": {},
     "output_type": "execute_result"
    }
   ],
   "source": [
    "bike['age']"
   ]
  },
  {
   "cell_type": "markdown",
   "metadata": {},
   "source": [
    "### Convert Duration to Minutes"
   ]
  },
  {
   "cell_type": "code",
   "execution_count": 11,
   "metadata": {},
   "outputs": [],
   "source": [
    "#convert the duration in secs to minutes\n",
    "#for easy description\n",
    "\n",
    "bike['duration'] = bike['duration_sec'] / 60"
   ]
  },
  {
   "cell_type": "code",
   "execution_count": 12,
   "metadata": {},
   "outputs": [
    {
     "data": {
      "text/plain": [
       "0          869.750000\n",
       "1          708.683333\n",
       "2         1030.900000\n",
       "3          608.166667\n",
       "4           26.416667\n",
       "             ...     \n",
       "183407       8.000000\n",
       "183408       5.216667\n",
       "183409       2.350000\n",
       "183410       2.316667\n",
       "183411       4.516667\n",
       "Name: duration, Length: 183412, dtype: float64"
      ]
     },
     "execution_count": 12,
     "metadata": {},
     "output_type": "execute_result"
    }
   ],
   "source": [
    "bike['duration']"
   ]
  },
  {
   "cell_type": "markdown",
   "metadata": {},
   "source": [
    "### Drop columns"
   ]
  },
  {
   "cell_type": "code",
   "execution_count": 13,
   "metadata": {},
   "outputs": [],
   "source": [
    "to_drop = ['start_station_latitude', 'start_station_longitude', 'duration_sec',\n",
    "           'end_station_latitude', 'end_station_longitude', 'member_birth_year',\n",
    "          'start_time', 'end_time', 'start_station_id', 'end_station_id']\n",
    "\n",
    "bike.drop(columns = to_drop, axis=1, inplace=True)"
   ]
  },
  {
   "cell_type": "markdown",
   "metadata": {},
   "source": [
    "### Dealing with missing values"
   ]
  },
  {
   "cell_type": "code",
   "execution_count": 14,
   "metadata": {
    "scrolled": true
   },
   "outputs": [
    {
     "data": {
      "text/plain": [
       "start_station_name          197\n",
       "end_station_name            197\n",
       "bike_id                       0\n",
       "user_type                     0\n",
       "member_gender              8265\n",
       "bike_share_for_all_trip       0\n",
       "hour                          0\n",
       "day_period                    0\n",
       "age                        8265\n",
       "duration                      0\n",
       "dtype: int64"
      ]
     },
     "execution_count": 14,
     "metadata": {},
     "output_type": "execute_result"
    }
   ],
   "source": [
    "bike.isna().sum()"
   ]
  },
  {
   "cell_type": "code",
   "execution_count": 15,
   "metadata": {
    "scrolled": true
   },
   "outputs": [
    {
     "data": {
      "text/html": [
       "<div>\n",
       "<style scoped>\n",
       "    .dataframe tbody tr th:only-of-type {\n",
       "        vertical-align: middle;\n",
       "    }\n",
       "\n",
       "    .dataframe tbody tr th {\n",
       "        vertical-align: top;\n",
       "    }\n",
       "\n",
       "    .dataframe thead th {\n",
       "        text-align: right;\n",
       "    }\n",
       "</style>\n",
       "<table border=\"1\" class=\"dataframe\">\n",
       "  <thead>\n",
       "    <tr style=\"text-align: right;\">\n",
       "      <th></th>\n",
       "      <th>start_station_name</th>\n",
       "      <th>end_station_name</th>\n",
       "      <th>bike_id</th>\n",
       "      <th>user_type</th>\n",
       "      <th>member_gender</th>\n",
       "      <th>bike_share_for_all_trip</th>\n",
       "      <th>hour</th>\n",
       "      <th>day_period</th>\n",
       "      <th>age</th>\n",
       "      <th>duration</th>\n",
       "    </tr>\n",
       "  </thead>\n",
       "  <tbody>\n",
       "    <tr>\n",
       "      <th>1</th>\n",
       "      <td>The Embarcadero at Steuart St</td>\n",
       "      <td>Berry St at 4th St</td>\n",
       "      <td>2535</td>\n",
       "      <td>Customer</td>\n",
       "      <td>NaN</td>\n",
       "      <td>No</td>\n",
       "      <td>18</td>\n",
       "      <td>Evening</td>\n",
       "      <td>NaN</td>\n",
       "      <td>708.683333</td>\n",
       "    </tr>\n",
       "    <tr>\n",
       "      <th>13</th>\n",
       "      <td>Channing Way at Shattuck Ave</td>\n",
       "      <td>Shattuck Ave at Hearst Ave</td>\n",
       "      <td>5101</td>\n",
       "      <td>Subscriber</td>\n",
       "      <td>NaN</td>\n",
       "      <td>No</td>\n",
       "      <td>23</td>\n",
       "      <td>Night</td>\n",
       "      <td>NaN</td>\n",
       "      <td>15.250000</td>\n",
       "    </tr>\n",
       "    <tr>\n",
       "      <th>28</th>\n",
       "      <td>University Ave at Oxford St</td>\n",
       "      <td>Channing Way at San Pablo Ave</td>\n",
       "      <td>4784</td>\n",
       "      <td>Customer</td>\n",
       "      <td>NaN</td>\n",
       "      <td>No</td>\n",
       "      <td>23</td>\n",
       "      <td>Night</td>\n",
       "      <td>NaN</td>\n",
       "      <td>10.833333</td>\n",
       "    </tr>\n",
       "    <tr>\n",
       "      <th>53</th>\n",
       "      <td>Davis St at Jackson St</td>\n",
       "      <td>Davis St at Jackson St</td>\n",
       "      <td>319</td>\n",
       "      <td>Customer</td>\n",
       "      <td>NaN</td>\n",
       "      <td>No</td>\n",
       "      <td>22</td>\n",
       "      <td>Night</td>\n",
       "      <td>NaN</td>\n",
       "      <td>56.966667</td>\n",
       "    </tr>\n",
       "    <tr>\n",
       "      <th>65</th>\n",
       "      <td>Commercial St at Montgomery St</td>\n",
       "      <td>Berry St at 4th St</td>\n",
       "      <td>2951</td>\n",
       "      <td>Subscriber</td>\n",
       "      <td>NaN</td>\n",
       "      <td>No</td>\n",
       "      <td>23</td>\n",
       "      <td>Night</td>\n",
       "      <td>NaN</td>\n",
       "      <td>15.433333</td>\n",
       "    </tr>\n",
       "    <tr>\n",
       "      <th>...</th>\n",
       "      <td>...</td>\n",
       "      <td>...</td>\n",
       "      <td>...</td>\n",
       "      <td>...</td>\n",
       "      <td>...</td>\n",
       "      <td>...</td>\n",
       "      <td>...</td>\n",
       "      <td>...</td>\n",
       "      <td>...</td>\n",
       "      <td>...</td>\n",
       "    </tr>\n",
       "    <tr>\n",
       "      <th>183354</th>\n",
       "      <td>Shattuck Ave at Hearst Ave</td>\n",
       "      <td>Haste St at College Ave</td>\n",
       "      <td>5430</td>\n",
       "      <td>Customer</td>\n",
       "      <td>NaN</td>\n",
       "      <td>No</td>\n",
       "      <td>1</td>\n",
       "      <td>Night</td>\n",
       "      <td>NaN</td>\n",
       "      <td>7.483333</td>\n",
       "    </tr>\n",
       "    <tr>\n",
       "      <th>183356</th>\n",
       "      <td>Myrtle St at Polk St</td>\n",
       "      <td>20th St at Bryant St</td>\n",
       "      <td>5400</td>\n",
       "      <td>Subscriber</td>\n",
       "      <td>NaN</td>\n",
       "      <td>No</td>\n",
       "      <td>1</td>\n",
       "      <td>Night</td>\n",
       "      <td>NaN</td>\n",
       "      <td>13.250000</td>\n",
       "    </tr>\n",
       "    <tr>\n",
       "      <th>183363</th>\n",
       "      <td>Market St at Franklin St</td>\n",
       "      <td>Valencia St at 22nd St</td>\n",
       "      <td>5166</td>\n",
       "      <td>Customer</td>\n",
       "      <td>NaN</td>\n",
       "      <td>No</td>\n",
       "      <td>1</td>\n",
       "      <td>Night</td>\n",
       "      <td>NaN</td>\n",
       "      <td>11.216667</td>\n",
       "    </tr>\n",
       "    <tr>\n",
       "      <th>183371</th>\n",
       "      <td>Market St at 10th St</td>\n",
       "      <td>Market St at Franklin St</td>\n",
       "      <td>2395</td>\n",
       "      <td>Customer</td>\n",
       "      <td>NaN</td>\n",
       "      <td>No</td>\n",
       "      <td>1</td>\n",
       "      <td>Night</td>\n",
       "      <td>NaN</td>\n",
       "      <td>3.266667</td>\n",
       "    </tr>\n",
       "    <tr>\n",
       "      <th>183402</th>\n",
       "      <td>18th St at Noe St</td>\n",
       "      <td>Mission Dolores Park</td>\n",
       "      <td>4326</td>\n",
       "      <td>Subscriber</td>\n",
       "      <td>NaN</td>\n",
       "      <td>No</td>\n",
       "      <td>0</td>\n",
       "      <td>Night</td>\n",
       "      <td>NaN</td>\n",
       "      <td>2.033333</td>\n",
       "    </tr>\n",
       "  </tbody>\n",
       "</table>\n",
       "<p>8265 rows × 10 columns</p>\n",
       "</div>"
      ],
      "text/plain": [
       "                    start_station_name               end_station_name bike_id  \\\n",
       "1        The Embarcadero at Steuart St             Berry St at 4th St    2535   \n",
       "13        Channing Way at Shattuck Ave     Shattuck Ave at Hearst Ave    5101   \n",
       "28         University Ave at Oxford St  Channing Way at San Pablo Ave    4784   \n",
       "53              Davis St at Jackson St         Davis St at Jackson St     319   \n",
       "65      Commercial St at Montgomery St             Berry St at 4th St    2951   \n",
       "...                                ...                            ...     ...   \n",
       "183354      Shattuck Ave at Hearst Ave        Haste St at College Ave    5430   \n",
       "183356            Myrtle St at Polk St           20th St at Bryant St    5400   \n",
       "183363        Market St at Franklin St         Valencia St at 22nd St    5166   \n",
       "183371            Market St at 10th St       Market St at Franklin St    2395   \n",
       "183402               18th St at Noe St           Mission Dolores Park    4326   \n",
       "\n",
       "         user_type member_gender bike_share_for_all_trip  hour day_period  \\\n",
       "1         Customer           NaN                      No    18    Evening   \n",
       "13      Subscriber           NaN                      No    23      Night   \n",
       "28        Customer           NaN                      No    23      Night   \n",
       "53        Customer           NaN                      No    22      Night   \n",
       "65      Subscriber           NaN                      No    23      Night   \n",
       "...            ...           ...                     ...   ...        ...   \n",
       "183354    Customer           NaN                      No     1      Night   \n",
       "183356  Subscriber           NaN                      No     1      Night   \n",
       "183363    Customer           NaN                      No     1      Night   \n",
       "183371    Customer           NaN                      No     1      Night   \n",
       "183402  Subscriber           NaN                      No     0      Night   \n",
       "\n",
       "        age    duration  \n",
       "1       NaN  708.683333  \n",
       "13      NaN   15.250000  \n",
       "28      NaN   10.833333  \n",
       "53      NaN   56.966667  \n",
       "65      NaN   15.433333  \n",
       "...     ...         ...  \n",
       "183354  NaN    7.483333  \n",
       "183356  NaN   13.250000  \n",
       "183363  NaN   11.216667  \n",
       "183371  NaN    3.266667  \n",
       "183402  NaN    2.033333  \n",
       "\n",
       "[8265 rows x 10 columns]"
      ]
     },
     "execution_count": 15,
     "metadata": {},
     "output_type": "execute_result"
    }
   ],
   "source": [
    "bike[(bike.bike_share_for_all_trip == 'No') & (bike.member_gender.isna())]"
   ]
  },
  {
   "cell_type": "markdown",
   "metadata": {},
   "source": [
    "It was observed that all `start_station_name` with missing values also have `end_station_name` as missing, same applies to `member_gender` and `age`."
   ]
  },
  {
   "cell_type": "code",
   "execution_count": 16,
   "metadata": {},
   "outputs": [
    {
     "name": "stdout",
     "output_type": "stream",
     "text": [
      "Percentage of missing is 4.613656685494951\n"
     ]
    }
   ],
   "source": [
    "missing_df = 8265 + 197\n",
    "total_df = bike.shape[0]\n",
    "\n",
    "missing_per = (missing_df/total_df)*100\n",
    "\n",
    "print('Percentage of missing is', missing_per)"
   ]
  },
  {
   "cell_type": "markdown",
   "metadata": {},
   "source": [
    "Since the is no information to deal with the missing data and it is also less than 5% of the overall data, it is advisable to drop them."
   ]
  },
  {
   "cell_type": "code",
   "execution_count": 17,
   "metadata": {},
   "outputs": [],
   "source": [
    "bike = bike.dropna()"
   ]
  },
  {
   "cell_type": "code",
   "execution_count": 18,
   "metadata": {},
   "outputs": [
    {
     "data": {
      "text/plain": [
       "start_station_name         0\n",
       "end_station_name           0\n",
       "bike_id                    0\n",
       "user_type                  0\n",
       "member_gender              0\n",
       "bike_share_for_all_trip    0\n",
       "hour                       0\n",
       "day_period                 0\n",
       "age                        0\n",
       "duration                   0\n",
       "dtype: int64"
      ]
     },
     "execution_count": 18,
     "metadata": {},
     "output_type": "execute_result"
    }
   ],
   "source": [
    "bike.isna().sum()"
   ]
  },
  {
   "cell_type": "code",
   "execution_count": 19,
   "metadata": {},
   "outputs": [
    {
     "data": {
      "text/plain": [
       "0"
      ]
     },
     "execution_count": 19,
     "metadata": {},
     "output_type": "execute_result"
    }
   ],
   "source": [
    "#number of duplicates\n",
    "bike.duplicated().sum()"
   ]
  },
  {
   "cell_type": "markdown",
   "metadata": {},
   "source": [
    "There are no duplicates in the dataset"
   ]
  },
  {
   "cell_type": "code",
   "execution_count": 20,
   "metadata": {
    "scrolled": true
   },
   "outputs": [
    {
     "data": {
      "text/html": [
       "<div>\n",
       "<style scoped>\n",
       "    .dataframe tbody tr th:only-of-type {\n",
       "        vertical-align: middle;\n",
       "    }\n",
       "\n",
       "    .dataframe tbody tr th {\n",
       "        vertical-align: top;\n",
       "    }\n",
       "\n",
       "    .dataframe thead th {\n",
       "        text-align: right;\n",
       "    }\n",
       "</style>\n",
       "<table border=\"1\" class=\"dataframe\">\n",
       "  <thead>\n",
       "    <tr style=\"text-align: right;\">\n",
       "      <th></th>\n",
       "      <th>start_station_name</th>\n",
       "      <th>end_station_name</th>\n",
       "      <th>bike_id</th>\n",
       "      <th>user_type</th>\n",
       "      <th>member_gender</th>\n",
       "      <th>bike_share_for_all_trip</th>\n",
       "      <th>hour</th>\n",
       "      <th>day_period</th>\n",
       "      <th>age</th>\n",
       "      <th>duration</th>\n",
       "    </tr>\n",
       "  </thead>\n",
       "  <tbody>\n",
       "    <tr>\n",
       "      <th>0</th>\n",
       "      <td>Montgomery St BART Station (Market St at 2nd St)</td>\n",
       "      <td>Commercial St at Montgomery St</td>\n",
       "      <td>4902</td>\n",
       "      <td>Customer</td>\n",
       "      <td>Male</td>\n",
       "      <td>No</td>\n",
       "      <td>17</td>\n",
       "      <td>Evening</td>\n",
       "      <td>38.0</td>\n",
       "      <td>869.750000</td>\n",
       "    </tr>\n",
       "    <tr>\n",
       "      <th>2</th>\n",
       "      <td>Market St at Dolores St</td>\n",
       "      <td>Powell St BART Station (Market St at 4th St)</td>\n",
       "      <td>5905</td>\n",
       "      <td>Customer</td>\n",
       "      <td>Male</td>\n",
       "      <td>No</td>\n",
       "      <td>12</td>\n",
       "      <td>Morning</td>\n",
       "      <td>50.0</td>\n",
       "      <td>1030.900000</td>\n",
       "    </tr>\n",
       "    <tr>\n",
       "      <th>3</th>\n",
       "      <td>Grove St at Masonic Ave</td>\n",
       "      <td>Central Ave at Fell St</td>\n",
       "      <td>6638</td>\n",
       "      <td>Subscriber</td>\n",
       "      <td>Other</td>\n",
       "      <td>No</td>\n",
       "      <td>17</td>\n",
       "      <td>Evening</td>\n",
       "      <td>33.0</td>\n",
       "      <td>608.166667</td>\n",
       "    </tr>\n",
       "    <tr>\n",
       "      <th>4</th>\n",
       "      <td>Frank H Ogawa Plaza</td>\n",
       "      <td>10th Ave at E 15th St</td>\n",
       "      <td>4898</td>\n",
       "      <td>Subscriber</td>\n",
       "      <td>Male</td>\n",
       "      <td>Yes</td>\n",
       "      <td>23</td>\n",
       "      <td>Night</td>\n",
       "      <td>48.0</td>\n",
       "      <td>26.416667</td>\n",
       "    </tr>\n",
       "    <tr>\n",
       "      <th>5</th>\n",
       "      <td>4th St at Mission Bay Blvd S</td>\n",
       "      <td>Broadway at Kearny</td>\n",
       "      <td>5200</td>\n",
       "      <td>Subscriber</td>\n",
       "      <td>Male</td>\n",
       "      <td>No</td>\n",
       "      <td>23</td>\n",
       "      <td>Night</td>\n",
       "      <td>63.0</td>\n",
       "      <td>29.883333</td>\n",
       "    </tr>\n",
       "  </tbody>\n",
       "</table>\n",
       "</div>"
      ],
      "text/plain": [
       "                                 start_station_name  \\\n",
       "0  Montgomery St BART Station (Market St at 2nd St)   \n",
       "2                           Market St at Dolores St   \n",
       "3                           Grove St at Masonic Ave   \n",
       "4                               Frank H Ogawa Plaza   \n",
       "5                      4th St at Mission Bay Blvd S   \n",
       "\n",
       "                               end_station_name bike_id   user_type  \\\n",
       "0                Commercial St at Montgomery St    4902    Customer   \n",
       "2  Powell St BART Station (Market St at 4th St)    5905    Customer   \n",
       "3                        Central Ave at Fell St    6638  Subscriber   \n",
       "4                         10th Ave at E 15th St    4898  Subscriber   \n",
       "5                            Broadway at Kearny    5200  Subscriber   \n",
       "\n",
       "  member_gender bike_share_for_all_trip  hour day_period   age     duration  \n",
       "0          Male                      No    17    Evening  38.0   869.750000  \n",
       "2          Male                      No    12    Morning  50.0  1030.900000  \n",
       "3         Other                      No    17    Evening  33.0   608.166667  \n",
       "4          Male                     Yes    23      Night  48.0    26.416667  \n",
       "5          Male                      No    23      Night  63.0    29.883333  "
      ]
     },
     "execution_count": 20,
     "metadata": {},
     "output_type": "execute_result"
    }
   ],
   "source": [
    "bike.head()"
   ]
  },
  {
   "cell_type": "code",
   "execution_count": 21,
   "metadata": {},
   "outputs": [
    {
     "data": {
      "text/plain": [
       "(174952, 10)"
      ]
     },
     "execution_count": 21,
     "metadata": {},
     "output_type": "execute_result"
    }
   ],
   "source": [
    "#cleaned data shape\n",
    "bike.shape"
   ]
  },
  {
   "cell_type": "code",
   "execution_count": 22,
   "metadata": {},
   "outputs": [
    {
     "name": "stdout",
     "output_type": "stream",
     "text": [
      "Index(['start_station_name', 'end_station_name', 'bike_id', 'user_type',\n",
      "       'member_gender', 'bike_share_for_all_trip', 'hour', 'day_period', 'age',\n",
      "       'duration'],\n",
      "      dtype='object')\n"
     ]
    }
   ],
   "source": [
    "print(bike.columns)"
   ]
  },
  {
   "cell_type": "markdown",
   "metadata": {},
   "source": [
    "### What is the structure of your dataset?\n",
    "\n",
    "> The cleaned dataset contains 174952 trip record in the dataset with 10 features giving details( start_station_name, end_station_name, bike_id, user_type, member_gender, bike_share_for_all_trip, hour, day_period, age, duration).\n",
    "\n",
    "The variables give the following information:\n",
    " * `bike info`: bike_id\n",
    " * `member info`:  user_type, member_gender, age\n",
    " * `station info`: start_station_name, end_station_name\n",
    " * `trip info`: bike_share_for_all_trip, hour, day_period, duration\n",
    "\n",
    "### What is/are the main feature(s) of interest in your dataset?\n",
    "\n",
    "> I'm most interested in analysing which features contributes most to the usage of the bikes. Identify patterns that associates with how the bikes are used in terms of period, member attributes and location.\n",
    "\n",
    "### What features in the dataset do you think will help support your investigation into your feature(s) of interest?\n",
    "\n",
    "> I expect that the gender of the user should have the strongest effect on the bike usage: male gender should use the bike more. I also think the age of user should impact the usage next: user within age 18 and 30 should use it more. \n",
    "I also think the user type and the bike start location will have effect on the usage."
   ]
  },
  {
   "cell_type": "markdown",
   "metadata": {},
   "source": [
    "## Univariate Exploration\n",
    "\n",
    "> In this section, investigate distributions of individual variables. If\n",
    "you see unusual points or outliers, take a deeper look to clean things up\n",
    "and prepare yourself to look at relationships between variables."
   ]
  },
  {
   "cell_type": "markdown",
   "metadata": {},
   "source": [
    "Exploring the member info individually "
   ]
  },
  {
   "cell_type": "code",
   "execution_count": 23,
   "metadata": {},
   "outputs": [],
   "source": [
    "#countplot function\n",
    "def countplot(x, data= bike, order=None, title=''):\n",
    "    sns.countplot(x=x, data=data, color='darkblue',\n",
    "                 order=order)\n",
    "    plt.title(title)"
   ]
  },
  {
   "cell_type": "code",
   "execution_count": 24,
   "metadata": {},
   "outputs": [],
   "source": [
    "#histplot function\n",
    "def histplot(data=bike, x='', binsize=10, x_start=0, label=''):\n",
    "    \n",
    "    bins = np.arange(x_start, bike[x].max()+binsize, binsize)\n",
    "\n",
    "    plt.figure(figsize=[8, 5])\n",
    "    plt.hist(data = data, x = x, bins=bins)\n",
    "    plt.xlabel(label);\n",
    "\n",
    "# # distribution plot for the age\n",
    "# binsize = 5\n",
    "# bins = np.arange(20, bike['age'].max()+binsize, binsize)\n",
    "\n",
    "# plt.figure(figsize=[8, 5])\n",
    "# plt.hist(data = bike, x = 'age', bins=bins)\n",
    "# plt.xlabel('Age');"
   ]
  },
  {
   "cell_type": "markdown",
   "metadata": {},
   "source": [
    "## Age"
   ]
  },
  {
   "cell_type": "code",
   "execution_count": 25,
   "metadata": {},
   "outputs": [
    {
     "data": {
      "image/png": "[encoded data removed]",
      "text/plain": [
       "<Figure size 576x360 with 1 Axes>"
      ]
     },
     "metadata": {
      "needs_background": "light"
     },
     "output_type": "display_data"
    }
   ],
   "source": [
    "# distribution plot for the age\n",
    "histplot(x='age', binsize=5, x_start=20, label='Age(years)')"
   ]
  },
  {
   "cell_type": "markdown",
   "metadata": {},
   "source": [
    "Age is right skewed with a sign of outliers. The start member age is 20years with an outraging age above 140 years.\n",
    "\n",
    "To clearly see the outliers I will plot age using boxplot."
   ]
  },
  {
   "cell_type": "code",
   "execution_count": 26,
   "metadata": {
    "scrolled": true
   },
   "outputs": [
    {
     "data": {
      "image/png": "[encoded data removed]",
      "text/plain": [
       "<Figure size 432x288 with 1 Axes>"
      ]
     },
     "metadata": {
      "needs_background": "light"
     },
     "output_type": "display_data"
    }
   ],
   "source": [
    "#ploting age on a boxplot\n",
    "#to view outliers\n",
    "sns.boxplot(x = 'age', data = bike);"
   ]
  },
  {
   "cell_type": "markdown",
   "metadata": {},
   "source": [
    "According to [Wikipedia](https://en.wikipedia.org/wiki/List_of_American_supercentenarians#:~:text=As%20of%209%20August%202022,aged%20115%20years%2C%20158%20days.) the oldest man in San Francisco is 115. Using that as a threshold for the maximum age considering any one older than 100 riding bicycle."
   ]
  },
  {
   "cell_type": "code",
   "execution_count": 27,
   "metadata": {},
   "outputs": [
    {
     "data": {
      "text/html": [
       "<div>\n",
       "<style scoped>\n",
       "    .dataframe tbody tr th:only-of-type {\n",
       "        vertical-align: middle;\n",
       "    }\n",
       "\n",
       "    .dataframe tbody tr th {\n",
       "        vertical-align: top;\n",
       "    }\n",
       "\n",
       "    .dataframe thead th {\n",
       "        text-align: right;\n",
       "    }\n",
       "</style>\n",
       "<table border=\"1\" class=\"dataframe\">\n",
       "  <thead>\n",
       "    <tr style=\"text-align: right;\">\n",
       "      <th></th>\n",
       "      <th>start_station_name</th>\n",
       "      <th>end_station_name</th>\n",
       "      <th>bike_id</th>\n",
       "      <th>user_type</th>\n",
       "      <th>member_gender</th>\n",
       "      <th>bike_share_for_all_trip</th>\n",
       "      <th>hour</th>\n",
       "      <th>day_period</th>\n",
       "      <th>age</th>\n",
       "      <th>duration</th>\n",
       "    </tr>\n",
       "  </thead>\n",
       "  <tbody>\n",
       "    <tr>\n",
       "      <th>1285</th>\n",
       "      <td>Shattuck Ave at Telegraph Ave</td>\n",
       "      <td>Shattuck Ave at 55th St</td>\n",
       "      <td>5391</td>\n",
       "      <td>Subscriber</td>\n",
       "      <td>Male</td>\n",
       "      <td>Yes</td>\n",
       "      <td>19</td>\n",
       "      <td>Evening</td>\n",
       "      <td>122.0</td>\n",
       "      <td>2.466667</td>\n",
       "    </tr>\n",
       "    <tr>\n",
       "      <th>10827</th>\n",
       "      <td>Bryant St at 2nd St</td>\n",
       "      <td>Grove St at Masonic Ave</td>\n",
       "      <td>6249</td>\n",
       "      <td>Subscriber</td>\n",
       "      <td>Male</td>\n",
       "      <td>No</td>\n",
       "      <td>19</td>\n",
       "      <td>Evening</td>\n",
       "      <td>122.0</td>\n",
       "      <td>21.916667</td>\n",
       "    </tr>\n",
       "    <tr>\n",
       "      <th>16087</th>\n",
       "      <td>Grove St at Masonic Ave</td>\n",
       "      <td>Folsom St at 3rd St</td>\n",
       "      <td>4968</td>\n",
       "      <td>Subscriber</td>\n",
       "      <td>Male</td>\n",
       "      <td>No</td>\n",
       "      <td>8</td>\n",
       "      <td>Morning</td>\n",
       "      <td>122.0</td>\n",
       "      <td>18.850000</td>\n",
       "    </tr>\n",
       "    <tr>\n",
       "      <th>17981</th>\n",
       "      <td>2nd St at Townsend St</td>\n",
       "      <td>Montgomery St BART Station (Market St at 2nd St)</td>\n",
       "      <td>5226</td>\n",
       "      <td>Subscriber</td>\n",
       "      <td>Male</td>\n",
       "      <td>No</td>\n",
       "      <td>19</td>\n",
       "      <td>Evening</td>\n",
       "      <td>102.0</td>\n",
       "      <td>6.100000</td>\n",
       "    </tr>\n",
       "    <tr>\n",
       "      <th>18885</th>\n",
       "      <td>Montgomery St BART Station (Market St at 2nd St)</td>\n",
       "      <td>2nd St at Townsend St</td>\n",
       "      <td>5319</td>\n",
       "      <td>Subscriber</td>\n",
       "      <td>Male</td>\n",
       "      <td>No</td>\n",
       "      <td>17</td>\n",
       "      <td>Evening</td>\n",
       "      <td>102.0</td>\n",
       "      <td>7.200000</td>\n",
       "    </tr>\n",
       "    <tr>\n",
       "      <th>...</th>\n",
       "      <td>...</td>\n",
       "      <td>...</td>\n",
       "      <td>...</td>\n",
       "      <td>...</td>\n",
       "      <td>...</td>\n",
       "      <td>...</td>\n",
       "      <td>...</td>\n",
       "      <td>...</td>\n",
       "      <td>...</td>\n",
       "      <td>...</td>\n",
       "    </tr>\n",
       "    <tr>\n",
       "      <th>171996</th>\n",
       "      <td>2nd St at Folsom St</td>\n",
       "      <td>Grove St at Masonic Ave</td>\n",
       "      <td>4988</td>\n",
       "      <td>Subscriber</td>\n",
       "      <td>Male</td>\n",
       "      <td>No</td>\n",
       "      <td>17</td>\n",
       "      <td>Evening</td>\n",
       "      <td>122.0</td>\n",
       "      <td>22.800000</td>\n",
       "    </tr>\n",
       "    <tr>\n",
       "      <th>173711</th>\n",
       "      <td>Grove St at Masonic Ave</td>\n",
       "      <td>Folsom St at 3rd St</td>\n",
       "      <td>5445</td>\n",
       "      <td>Subscriber</td>\n",
       "      <td>Male</td>\n",
       "      <td>No</td>\n",
       "      <td>9</td>\n",
       "      <td>Morning</td>\n",
       "      <td>122.0</td>\n",
       "      <td>16.550000</td>\n",
       "    </tr>\n",
       "    <tr>\n",
       "      <th>177708</th>\n",
       "      <td>Bryant St at 2nd St</td>\n",
       "      <td>Grove St at Masonic Ave</td>\n",
       "      <td>5286</td>\n",
       "      <td>Subscriber</td>\n",
       "      <td>Male</td>\n",
       "      <td>No</td>\n",
       "      <td>19</td>\n",
       "      <td>Evening</td>\n",
       "      <td>122.0</td>\n",
       "      <td>25.450000</td>\n",
       "    </tr>\n",
       "    <tr>\n",
       "      <th>177885</th>\n",
       "      <td>Howard St at 2nd St</td>\n",
       "      <td>San Francisco Caltrain (Townsend St at 4th St)</td>\n",
       "      <td>2175</td>\n",
       "      <td>Subscriber</td>\n",
       "      <td>Female</td>\n",
       "      <td>No</td>\n",
       "      <td>18</td>\n",
       "      <td>Evening</td>\n",
       "      <td>120.0</td>\n",
       "      <td>8.616667</td>\n",
       "    </tr>\n",
       "    <tr>\n",
       "      <th>182830</th>\n",
       "      <td>Yerba Buena Center for the Arts (Howard St at ...</td>\n",
       "      <td>San Francisco Caltrain Station 2  (Townsend St...</td>\n",
       "      <td>5031</td>\n",
       "      <td>Subscriber</td>\n",
       "      <td>Male</td>\n",
       "      <td>No</td>\n",
       "      <td>7</td>\n",
       "      <td>Morning</td>\n",
       "      <td>121.0</td>\n",
       "      <td>7.133333</td>\n",
       "    </tr>\n",
       "  </tbody>\n",
       "</table>\n",
       "<p>75 rows × 10 columns</p>\n",
       "</div>"
      ],
      "text/plain": [
       "                                       start_station_name  \\\n",
       "1285                        Shattuck Ave at Telegraph Ave   \n",
       "10827                                 Bryant St at 2nd St   \n",
       "16087                             Grove St at Masonic Ave   \n",
       "17981                               2nd St at Townsend St   \n",
       "18885    Montgomery St BART Station (Market St at 2nd St)   \n",
       "...                                                   ...   \n",
       "171996                                2nd St at Folsom St   \n",
       "173711                            Grove St at Masonic Ave   \n",
       "177708                                Bryant St at 2nd St   \n",
       "177885                                Howard St at 2nd St   \n",
       "182830  Yerba Buena Center for the Arts (Howard St at ...   \n",
       "\n",
       "                                         end_station_name bike_id   user_type  \\\n",
       "1285                              Shattuck Ave at 55th St    5391  Subscriber   \n",
       "10827                             Grove St at Masonic Ave    6249  Subscriber   \n",
       "16087                                 Folsom St at 3rd St    4968  Subscriber   \n",
       "17981    Montgomery St BART Station (Market St at 2nd St)    5226  Subscriber   \n",
       "18885                               2nd St at Townsend St    5319  Subscriber   \n",
       "...                                                   ...     ...         ...   \n",
       "171996                            Grove St at Masonic Ave    4988  Subscriber   \n",
       "173711                                Folsom St at 3rd St    5445  Subscriber   \n",
       "177708                            Grove St at Masonic Ave    5286  Subscriber   \n",
       "177885     San Francisco Caltrain (Townsend St at 4th St)    2175  Subscriber   \n",
       "182830  San Francisco Caltrain Station 2  (Townsend St...    5031  Subscriber   \n",
       "\n",
       "       member_gender bike_share_for_all_trip  hour day_period    age  \\\n",
       "1285            Male                     Yes    19    Evening  122.0   \n",
       "10827           Male                      No    19    Evening  122.0   \n",
       "16087           Male                      No     8    Morning  122.0   \n",
       "17981           Male                      No    19    Evening  102.0   \n",
       "18885           Male                      No    17    Evening  102.0   \n",
       "...              ...                     ...   ...        ...    ...   \n",
       "171996          Male                      No    17    Evening  122.0   \n",
       "173711          Male                      No     9    Morning  122.0   \n",
       "177708          Male                      No    19    Evening  122.0   \n",
       "177885        Female                      No    18    Evening  120.0   \n",
       "182830          Male                      No     7    Morning  121.0   \n",
       "\n",
       "         duration  \n",
       "1285     2.466667  \n",
       "10827   21.916667  \n",
       "16087   18.850000  \n",
       "17981    6.100000  \n",
       "18885    7.200000  \n",
       "...           ...  \n",
       "171996  22.800000  \n",
       "173711  16.550000  \n",
       "177708  25.450000  \n",
       "177885   8.616667  \n",
       "182830   7.133333  \n",
       "\n",
       "[75 rows x 10 columns]"
      ]
     },
     "execution_count": 27,
     "metadata": {},
     "output_type": "execute_result"
    }
   ],
   "source": [
    "#data of where age > 115\n",
    "max_age = 100\n",
    "bike.query('age > @max_age')"
   ]
  },
  {
   "cell_type": "markdown",
   "metadata": {},
   "source": [
    "There are 71 of these outliers record and due to lack of information to support the cause they will be dropped going on."
   ]
  },
  {
   "cell_type": "code",
   "execution_count": 28,
   "metadata": {},
   "outputs": [],
   "source": [
    "drop_index = bike.query('age > @max_age').index\n",
    "bike = bike.query('index not in @drop_index')"
   ]
  },
  {
   "cell_type": "markdown",
   "metadata": {},
   "source": [
    "Let replot the data"
   ]
  },
  {
   "cell_type": "code",
   "execution_count": 29,
   "metadata": {},
   "outputs": [
    {
     "name": "stdout",
     "output_type": "stream",
     "text": [
      "21.0\n",
      "95.0\n"
     ]
    }
   ],
   "source": [
    "#the minimum and maximum age\n",
    "print(bike.age.min())\n",
    "print(bike.age.max())"
   ]
  },
  {
   "cell_type": "code",
   "execution_count": 30,
   "metadata": {},
   "outputs": [
    {
     "data": {
      "image/png": "[encoded data removed]",
      "text/plain": [
       "<Figure size 576x360 with 1 Axes>"
      ]
     },
     "metadata": {
      "needs_background": "light"
     },
     "output_type": "display_data"
    }
   ],
   "source": [
    "#new age distribution\n",
    "histplot(x='age', binsize=5, x_start=20, label='Age(years)')"
   ]
  },
  {
   "cell_type": "code",
   "execution_count": 31,
   "metadata": {},
   "outputs": [
    {
     "data": {
      "text/plain": [
       "count    174877.00000\n",
       "mean         37.16093\n",
       "std           9.97047\n",
       "min          21.00000\n",
       "25%          30.00000\n",
       "50%          35.00000\n",
       "75%          42.00000\n",
       "max          95.00000\n",
       "Name: age, dtype: float64"
      ]
     },
     "execution_count": 31,
     "metadata": {},
     "output_type": "execute_result"
    }
   ],
   "source": [
    "bike.age.describe()"
   ]
  },
  {
   "cell_type": "markdown",
   "metadata": {},
   "source": [
    "Majority of the member are within the age of 25 and 40. The lowest age is 21, highest is 95 and the average age is 35years."
   ]
  },
  {
   "cell_type": "markdown",
   "metadata": {},
   "source": [
    "## Gender"
   ]
  },
  {
   "cell_type": "code",
   "execution_count": 32,
   "metadata": {},
   "outputs": [
    {
     "data": {
      "text/plain": [
       "Male      74.589569\n",
       "Female    23.325537\n",
       "Other      2.084894\n",
       "Name: member_gender, dtype: float64"
      ]
     },
     "execution_count": 32,
     "metadata": {},
     "output_type": "execute_result"
    }
   ],
   "source": [
    "bike.member_gender.value_counts(normalize = True)*100"
   ]
  },
  {
   "cell_type": "code",
   "execution_count": 33,
   "metadata": {},
   "outputs": [
    {
     "data": {
      "image/png": "[encoded data removed]",
      "text/plain": [
       "<Figure size 432x288 with 1 Axes>"
      ]
     },
     "metadata": {
      "needs_background": "light"
     },
     "output_type": "display_data"
    }
   ],
   "source": [
    "countplot(x='member_gender', order=['Male', 'Female', 'Other'], \n",
    "         title='Member Gender Count')"
   ]
  },
  {
   "cell_type": "markdown",
   "metadata": {},
   "source": [
    "There are 3 categories of the members gender; Male, Female and Others. The Male Gender dominate the membership, followed by the Female gender and lastly the Others. More than 70% of the Members are Male."
   ]
  },
  {
   "cell_type": "markdown",
   "metadata": {},
   "source": [
    "## User Type"
   ]
  },
  {
   "cell_type": "code",
   "execution_count": 34,
   "metadata": {},
   "outputs": [
    {
     "data": {
      "text/plain": [
       "array(['Customer', 'Subscriber'], dtype=object)"
      ]
     },
     "execution_count": 34,
     "metadata": {},
     "output_type": "execute_result"
    }
   ],
   "source": [
    "#unique types of subscriber\n",
    "bike.user_type.unique()"
   ]
  },
  {
   "cell_type": "markdown",
   "metadata": {},
   "source": [
    "Using a Pie chart to display the portion of the Users"
   ]
  },
  {
   "cell_type": "code",
   "execution_count": 35,
   "metadata": {
    "scrolled": true
   },
   "outputs": [
    {
     "data": {
      "image/png": "[encoded data removed]",
      "text/plain": [
       "<Figure size 432x288 with 1 Axes>"
      ]
     },
     "metadata": {},
     "output_type": "display_data"
    }
   ],
   "source": [
    "# pie chart\n",
    "sorted_counts = bike.user_type.value_counts()\n",
    "\n",
    "plt.pie(sorted_counts, labels = sorted_counts.index, \n",
    "        startangle = 90, counterclock = False, autopct='%1.1f%%', explode = (0.1,0));\n",
    "plt.axis('equal')\n",
    "plt.title('Member Status ');"
   ]
  },
  {
   "cell_type": "markdown",
   "metadata": {},
   "source": [
    "There are 2 categories of members; Customer and Subscriber. 90.5% of the Members are Subscribers and the 9.5% are Customers"
   ]
  },
  {
   "cell_type": "markdown",
   "metadata": {},
   "source": [
    "Moving on to Exploring the Station Info"
   ]
  },
  {
   "cell_type": "markdown",
   "metadata": {},
   "source": [
    "## Station"
   ]
  },
  {
   "cell_type": "markdown",
   "metadata": {},
   "source": [
    "### Most Common Station"
   ]
  },
  {
   "cell_type": "code",
   "execution_count": 36,
   "metadata": {},
   "outputs": [
    {
     "data": {
      "text/plain": [
       "329"
      ]
     },
     "execution_count": 36,
     "metadata": {},
     "output_type": "execute_result"
    }
   ],
   "source": [
    "#number of unique start station\n",
    "bike.start_station_name.nunique()"
   ]
  },
  {
   "cell_type": "code",
   "execution_count": 37,
   "metadata": {},
   "outputs": [
    {
     "data": {
      "text/plain": [
       "329"
      ]
     },
     "execution_count": 37,
     "metadata": {},
     "output_type": "execute_result"
    }
   ],
   "source": [
    "#number of unique end station\n",
    "bike.end_station_name.nunique()"
   ]
  },
  {
   "cell_type": "code",
   "execution_count": 38,
   "metadata": {},
   "outputs": [],
   "source": [
    "#top start and end stations\n",
    "top_start = bike.start_station_name.value_counts()[:10]\n",
    "top_end = bike.end_station_name.value_counts()[:10]"
   ]
  },
  {
   "cell_type": "code",
   "execution_count": 39,
   "metadata": {},
   "outputs": [
    {
     "data": {
      "image/png": "[encoded data removed]",
      "text/plain": [
       "<Figure size 720x432 with 2 Axes>"
      ]
     },
     "metadata": {
      "needs_background": "light"
     },
     "output_type": "display_data"
    }
   ],
   "source": [
    "#plotting the top 10 start and end\n",
    "fig, ax = plt.subplots(nrows=2, figsize = [10,6])\n",
    "\n",
    "#bars\n",
    "sns.barplot(y = top_start.index, x = top_start.values, color='darkblue', ax=ax[0])\n",
    "sns.barplot(y = top_end.index, x = top_end.values, color='darkblue', ax=ax[1]);\n",
    "\n",
    "#subplots title\n",
    "ax[0].title.set_text('Top Start Station')\n",
    "ax[1].title.set_text('Top End Station')\n",
    "\n",
    "#even the spaces between subplots\n",
    "fig.tight_layout()"
   ]
  },
  {
   "cell_type": "markdown",
   "metadata": {},
   "source": [
    "There are 329 unique Start and End stations in the dataset. `Market St at 10th St`, `San Francisco Caltrain Station 2(Townsend St at 4th St)`, `Berry St at 4th St`, `Montgomery St BART Station(Market St at 2nd St)` are the most common Start and End Stations for the members trip within the city."
   ]
  },
  {
   "cell_type": "markdown",
   "metadata": {},
   "source": [
    "Finaling for the Univariate analysis, exploring the trip information individually available"
   ]
  },
  {
   "cell_type": "markdown",
   "metadata": {},
   "source": [
    "## Trip Period"
   ]
  },
  {
   "cell_type": "code",
   "execution_count": 40,
   "metadata": {},
   "outputs": [
    {
     "data": {
      "image/png": "[encoded data removed]",
      "text/plain": [
       "<Figure size 432x288 with 1 Axes>"
      ]
     },
     "metadata": {
      "needs_background": "light"
     },
     "output_type": "display_data"
    }
   ],
   "source": [
    "#day period count\n",
    "day_order = ['Morning', 'Afternoon', 'Evening', 'Night']\n",
    "countplot(x='day_period', order=day_order, \n",
    "         title='Trip Count based on Day period')"
   ]
  },
  {
   "cell_type": "markdown",
   "metadata": {},
   "source": [
    "Most trip are taken in the Morning, followed by Evening and less at Night. This is quite reasonable.\n",
    "On a deeper look, let check specific hour in the Morning and Evening the trip spike."
   ]
  },
  {
   "cell_type": "code",
   "execution_count": 41,
   "metadata": {},
   "outputs": [
    {
     "data": {
      "image/png": "[encoded data removed]",
      "text/plain": [
       "<Figure size 432x288 with 1 Axes>"
      ]
     },
     "metadata": {
      "needs_background": "light"
     },
     "output_type": "display_data"
    }
   ],
   "source": [
    "#hour count for trips\n",
    "countplot(x='hour', order=None, \n",
    "         title='Trip Count based on Hour of the day')"
   ]
  },
  {
   "cell_type": "markdown",
   "metadata": {},
   "source": [
    "Specifically, between 7AM and 9AM in the Morning, and between 4PM and 6PM in the Evening exist the highest trip. This period happen to be the resumption hour and closing hour respectively in the city which contribute to the increase in trip usage. Trips count between 10AM and 3PM, which fall within office hour, are relatively constant. The trip count then drop from 7PM till 6AM."
   ]
  },
  {
   "cell_type": "markdown",
   "metadata": {},
   "source": [
    "## Trip Duration"
   ]
  },
  {
   "cell_type": "code",
   "execution_count": 42,
   "metadata": {},
   "outputs": [
    {
     "data": {
      "text/plain": [
       "count    174877.000000\n",
       "mean         11.733767\n",
       "std          27.375477\n",
       "min           1.016667\n",
       "25%           5.383333\n",
       "50%           8.500000\n",
       "75%          13.150000\n",
       "max        1409.133333\n",
       "Name: duration, dtype: float64"
      ]
     },
     "execution_count": 42,
     "metadata": {},
     "output_type": "execute_result"
    }
   ],
   "source": [
    "#stats description\n",
    "bike.duration.describe()"
   ]
  },
  {
   "cell_type": "markdown",
   "metadata": {},
   "source": [
    "Average Trip duration is 9Mins"
   ]
  },
  {
   "cell_type": "code",
   "execution_count": 43,
   "metadata": {},
   "outputs": [
    {
     "data": {
      "image/png": "[encoded data removed]",
      "text/plain": [
       "<Figure size 576x360 with 1 Axes>"
      ]
     },
     "metadata": {
      "needs_background": "light"
     },
     "output_type": "display_data"
    }
   ],
   "source": [
    "#trip duration distribution\n",
    "histplot(x='duration', binsize=10, label='Trip Duration(Min)')"
   ]
  },
  {
   "cell_type": "markdown",
   "metadata": {},
   "source": [
    "The distribution of the duration is highly right skewed.\n",
    "\n",
    "Let plot the log transformation with a log scale."
   ]
  },
  {
   "cell_type": "code",
   "execution_count": 44,
   "metadata": {},
   "outputs": [
    {
     "data": {
      "text/plain": [
       "count    174877.000000\n",
       "mean          0.929677\n",
       "std           0.305180\n",
       "min           0.007179\n",
       "25%           0.731051\n",
       "50%           0.929419\n",
       "75%           1.118926\n",
       "max           3.148952\n",
       "Name: duration, dtype: float64"
      ]
     },
     "execution_count": 44,
     "metadata": {},
     "output_type": "execute_result"
    }
   ],
   "source": [
    "#log transformation\n",
    "np.log10(bike.duration).describe()"
   ]
  },
  {
   "cell_type": "code",
   "execution_count": 45,
   "metadata": {},
   "outputs": [
    {
     "data": {
      "image/png": "[encoded data removed]",
      "text/plain": [
       "<Figure size 576x432 with 1 Axes>"
      ]
     },
     "metadata": {
      "needs_background": "light"
     },
     "output_type": "display_data"
    }
   ],
   "source": [
    "#log distribution\n",
    "binsize=0.025\n",
    "bin_edges=10 ** np.arange(0, np.log10(bike.duration.max())+binsize, binsize)\n",
    "plt.figure(figsize=[8,6])\n",
    "\n",
    "plt.hist(data=bike, x='duration', bins=bin_edges)\n",
    "plt.xscale('log')\n",
    "plt.xticks([1,2,5,10,20,50,100,200,500,1000,2000],[1,2,5,10,20,50,100,200,500,'1k','2k'])\n",
    "plt.xlabel('Duration(min)')\n",
    "plt.title('Distribution of Trip Duration (min)');"
   ]
  },
  {
   "cell_type": "markdown",
   "metadata": {},
   "source": [
    "On a closer look putting the max to 100 minutes"
   ]
  },
  {
   "cell_type": "code",
   "execution_count": 46,
   "metadata": {},
   "outputs": [
    {
     "data": {
      "image/png": "[encoded data removed]",
      "text/plain": [
       "<Figure size 576x432 with 1 Axes>"
      ]
     },
     "metadata": {
      "needs_background": "light"
     },
     "output_type": "display_data"
    }
   ],
   "source": [
    "#log distribution\n",
    "binsize=0.025\n",
    "bin_edges=10 ** np.arange(0, np.log10(bike.duration.max())+binsize, binsize)\n",
    "plt.figure(figsize=[8,6])\n",
    "\n",
    "plt.hist(data=bike, x='duration', bins=bin_edges)\n",
    "plt.xscale('log')\n",
    "plt.xticks([1,2,5,10,20,30,50,100,200,500,1000,2000],[1,2,5,10,20,30,50,100,200,500,'1k','2k'])\n",
    "plt.xlabel('Duration(min)')\n",
    "plt.xlim((1,100))\n",
    "plt.title('Distribution of Trip Duration (min)');"
   ]
  },
  {
   "cell_type": "markdown",
   "metadata": {},
   "source": [
    "Using the log scale the duration distribution becomes relatively a normal distribution. Majority of the trips are between 5 to 25mins, fairly a short trips. The average trip is 9mins.\n",
    "From the normal distribution it can be concluded that 90% of the trip duration is less than 30minutes"
   ]
  },
  {
   "cell_type": "markdown",
   "metadata": {},
   "source": [
    "## Share Trip"
   ]
  },
  {
   "cell_type": "code",
   "execution_count": 47,
   "metadata": {},
   "outputs": [
    {
     "data": {
      "image/png": "[encoded data removed]",
      "text/plain": [
       "<Figure size 432x288 with 1 Axes>"
      ]
     },
     "metadata": {
      "needs_background": "light"
     },
     "output_type": "display_data"
    }
   ],
   "source": [
    "#bike_share trip\n",
    "countplot(x='bike_share_for_all_trip', order=None, \n",
    "         title='Share Trip')"
   ]
  },
  {
   "cell_type": "code",
   "execution_count": 48,
   "metadata": {},
   "outputs": [
    {
     "data": {
      "text/plain": [
       "No     0.900965\n",
       "Yes    0.099035\n",
       "Name: bike_share_for_all_trip, dtype: float64"
      ]
     },
     "execution_count": 48,
     "metadata": {},
     "output_type": "execute_result"
    }
   ],
   "source": [
    "bike.bike_share_for_all_trip.value_counts(normalize=True)"
   ]
  },
  {
   "cell_type": "markdown",
   "metadata": {},
   "source": [
    "Majority of the member do not share bike for trip. Only few, about 10%, prefer to share bikes for trip"
   ]
  },
  {
   "cell_type": "markdown",
   "metadata": {},
   "source": [
    "### Discuss the distribution(s) of your variable(s) of interest. Were there any unusual points? Did you need to perform any transformations?\n",
    "\n",
    "> `Age` : The age distribution is right skewed and has outliers. Some members age was high over 140years. After some considerations the outliers was dropped using the limit threshold at 100 years as a logical conclusion. About 71 rows were dropped. After the transformation the average age of the member was 35years, the minimum was 21years and the maximum 95 years.\n",
    "\n",
    "> `Trip Period`: There was an expected rise in count of trip before office and after office hour, 7AM to 9AM and 4PM to 6PM, respectively. On a broader view there are more bike usage in the Morning and Evening compared to Afternoon and Night.\n",
    "\n",
    "> `Trip Duration`: The trip duration was highly skewed to the right. At a glance had no visible trend, after plotting on a log scale the distribution showed a normal distribution. It still displayed to be highly right skewed and strong ouliers. The plot was set to an upper bound of 100. The final distribution showed an average of 9MINS was spent for each trip and 90% of the trips had a duration less than 30Mins.\n",
    "\n",
    "### Of the features you investigated, were there any unusual distributions? Did you perform any operations on the data to tidy, adjust, or change the form of the data? If so, why did you do this?\n",
    "\n",
    "> The age distribution was highly right skewed but after dropping the outliers using logical decisions, by using 100YEARS as the threshold, the distribution improved to be fairly skewed.\n",
    "\n",
    "> The duration showed no sign of normal distribution not until after log transformation and setting the x-axis upper bound limit to 100Mins, then appeared the normal distribution. "
   ]
  },
  {
   "cell_type": "markdown",
   "metadata": {},
   "source": [
    "## Bivariate Exploration\n",
    "\n",
    "> In this section, investigate relationships between pairs of variables in your\n",
    "data. Make sure the variables that you cover here have been introduced in some\n",
    "fashion in the previous section (univariate exploration)."
   ]
  },
  {
   "cell_type": "markdown",
   "metadata": {},
   "source": [
    "### Pairwise Correlations"
   ]
  },
  {
   "cell_type": "markdown",
   "metadata": {},
   "source": [
    "Let look at a pairwise correlations present between the numerical features in the data"
   ]
  },
  {
   "cell_type": "code",
   "execution_count": 49,
   "metadata": {},
   "outputs": [
    {
     "data": {
      "text/plain": [
       "Index(['hour', 'age', 'duration'], dtype='object')"
      ]
     },
     "execution_count": 49,
     "metadata": {},
     "output_type": "execute_result"
    }
   ],
   "source": [
    "#the numerical features\n",
    "bike.corr().columns"
   ]
  },
  {
   "cell_type": "code",
   "execution_count": 50,
   "metadata": {},
   "outputs": [
    {
     "data": {
      "image/png": "[encoded data removed]",
      "text/plain": [
       "<Figure size 432x288 with 2 Axes>"
      ]
     },
     "metadata": {
      "needs_background": "light"
     },
     "output_type": "display_data"
    }
   ],
   "source": [
    "num_corr = bike.corr()\n",
    "\n",
    "#correlation plot\n",
    "sns.heatmap(num_corr, annot=True, cmap='YlGnBu');"
   ]
  },
  {
   "cell_type": "markdown",
   "metadata": {},
   "source": [
    "It is observed from the correlation between `duration` and `age` is close to 0, impling that there is no linear relationship between them. `Age` and `hour` shows a weak negative correlation."
   ]
  },
  {
   "cell_type": "code",
   "execution_count": 51,
   "metadata": {},
   "outputs": [
    {
     "data": {
      "image/png": "[encoded data removed]",
      "text/plain": [
       "<Figure size 576x576 with 6 Axes>"
      ]
     },
     "metadata": {
      "needs_background": "light"
     },
     "output_type": "display_data"
    }
   ],
   "source": [
    "gr = sns.PairGrid(vars=['age', 'hour'], data=bike, height=4)\n",
    "gr.map_offdiag(sns.scatterplot)\n",
    "gr.map_diag(sns.histplot, bins=20);"
   ]
  },
  {
   "cell_type": "markdown",
   "metadata": {},
   "source": [
    "This shows no clear relationship betwee `age` and `hour`. This further validate the claim from the correlation value close to 0."
   ]
  },
  {
   "cell_type": "markdown",
   "metadata": {},
   "source": [
    "### Member Info and Trip Info"
   ]
  },
  {
   "cell_type": "code",
   "execution_count": 52,
   "metadata": {},
   "outputs": [
    {
     "data": {
      "text/plain": [
       "<Figure size 720x720 with 0 Axes>"
      ]
     },
     "metadata": {},
     "output_type": "display_data"
    },
    {
     "data": {
      "image/png": "[encoded data removed]",
      "text/plain": [
       "<Figure size 1296x432 with 8 Axes>"
      ]
     },
     "metadata": {
      "needs_background": "light"
     },
     "output_type": "display_data"
    }
   ],
   "source": [
    "#function to call boxplot\n",
    "def boxplot(x, y, **kwargs):\n",
    "    sns.boxplot(x=x, y=y, color='blue', showfliers=False);\n",
    "    #showfliers = False to drop outliers\n",
    "\n",
    "    \n",
    "#plot pairgrid\n",
    "plt.figure(figsize=[10,10])\n",
    "cat_vars = ['user_type', 'member_gender', 'bike_share_for_all_trip', 'day_period']\n",
    "g = sns.PairGrid(data=bike, x_vars=cat_vars, y_vars=['age', 'duration'], height=3, aspect=1.5)\n",
    "g.map(boxplot);"
   ]
  },
  {
   "cell_type": "markdown",
   "metadata": {},
   "source": [
    "* The average duration for subscriber is lower than that of customers and 75% of the subscriber duration is lower than the average duration for customers.\n",
    "* The female gender and other spend a little more time than the male which is quite expected. And the average age for the other gender is higher than the male and female with female having  the lowest.\n",
    "\n",
    "* Customers that do not share bike for trips spend have higher duration and the average age is higher compared to those that share\n",
    "\n",
    "* Average duration is relatively the same in the evening and morning, but higher in the afternoon and lowest at night. This is quite expected trend.\n",
    "\n",
    "* The average age of customers that use the bike in the afternoon is high in the morning and low in the night. The evening and afternoon remained fairly the same."
   ]
  },
  {
   "cell_type": "markdown",
   "metadata": {},
   "source": [
    "### Total Duration From Start or End Station"
   ]
  },
  {
   "cell_type": "code",
   "execution_count": 53,
   "metadata": {},
   "outputs": [],
   "source": [
    "start_stat_dur = bike.groupby('start_station_name').duration.sum().sort_values(ascending=False).reset_index()[:10]\n",
    "end_stat_dur = bike.groupby('end_station_name').duration.sum().sort_values(ascending=False).reset_index()[:10]"
   ]
  },
  {
   "cell_type": "code",
   "execution_count": 54,
   "metadata": {
    "scrolled": false
   },
   "outputs": [
    {
     "data": {
      "image/png": "[encoded data removed]",
      "text/plain": [
       "<Figure size 720x432 with 2 Axes>"
      ]
     },
     "metadata": {
      "needs_background": "light"
     },
     "output_type": "display_data"
    }
   ],
   "source": [
    "#plotting the top 10 start and end\n",
    "fig, ax = plt.subplots(nrows=2, figsize = [10,6])\n",
    "\n",
    "#bars\n",
    "sns.barplot(y = start_stat_dur.start_station_name, x = start_stat_dur.duration, color='darkblue', ax=ax[0])\n",
    "sns.barplot(y = end_stat_dur.end_station_name, x = end_stat_dur.duration, color='darkblue', ax=ax[1]);\n",
    "\n",
    "#subplots title\n",
    "ax[0].title.set_text('Top Duration from Start Station')\n",
    "ax[1].title.set_text('Top Duration from End Station')\n",
    "\n",
    "#even the spaces between subplots\n",
    "fig.tight_layout()"
   ]
  },
  {
   "cell_type": "markdown",
   "metadata": {},
   "source": [
    "As expected, some of the top start duration are still topping in total duration covered for the period. `Market St at 10th St`, `San Francisco Caltrain Station 2(Townsend St at 4th St)`, `Berry St at 4th St`, `Montgomery St BART Station(Market St at 2nd St)` are example."
   ]
  },
  {
   "cell_type": "markdown",
   "metadata": {},
   "source": [
    "### Member Info and Day Period"
   ]
  },
  {
   "cell_type": "code",
   "execution_count": 55,
   "metadata": {},
   "outputs": [
    {
     "data": {
      "image/png": "[encoded data removed]",
      "text/plain": [
       "<Figure size 720x720 with 3 Axes>"
      ]
     },
     "metadata": {
      "needs_background": "light"
     },
     "output_type": "display_data"
    }
   ],
   "source": [
    "#gneder and day info \n",
    "fig, ax = plt.subplots(nrows=3, figsize=[10,10])\n",
    "sns.countplot(data=bike, x='hour', hue='member_gender', ax=ax[0])\n",
    "sns.countplot(data=bike, x='day_period', hue='member_gender', ax=ax[1])\n",
    "sns.countplot(data=bike, x='user_type', hue='member_gender', ax=ax[2]);"
   ]
  },
  {
   "cell_type": "markdown",
   "metadata": {},
   "source": [
    "Using raw figures to support the chart"
   ]
  },
  {
   "cell_type": "code",
   "execution_count": 56,
   "metadata": {
    "scrolled": true
   },
   "outputs": [
    {
     "data": {
      "text/plain": [
       "user_type   member_gender\n",
       "Customer    Male             0.693738\n",
       "            Female           0.279089\n",
       "            Other            0.027172\n",
       "Subscriber  Male             0.751352\n",
       "            Female           0.228461\n",
       "            Other            0.020187\n",
       "Name: member_gender, dtype: float64"
      ]
     },
     "execution_count": 56,
     "metadata": {},
     "output_type": "execute_result"
    }
   ],
   "source": [
    "#to confirm if the other is totally empty in the customer user_type\n",
    "bike.groupby('user_type').member_gender.value_counts(normalize=True)"
   ]
  },
  {
   "cell_type": "markdown",
   "metadata": {},
   "source": [
    "* 8am and 5am records the highest Male and Female. The Male are the highest user for all the hour of the day\n",
    "\n",
    "* All gender experince the highest users in the morning followed by Evening\n",
    "* The Male are the majority for all type of users\n",
    "* The Other gender is close to 0% in both user type"
   ]
  },
  {
   "cell_type": "code",
   "execution_count": 57,
   "metadata": {},
   "outputs": [
    {
     "data": {
      "text/plain": [
       "Index(['start_station_name', 'end_station_name', 'bike_id', 'user_type',\n",
       "       'member_gender', 'bike_share_for_all_trip', 'hour', 'day_period', 'age',\n",
       "       'duration'],\n",
       "      dtype='object')"
      ]
     },
     "execution_count": 57,
     "metadata": {},
     "output_type": "execute_result"
    }
   ],
   "source": [
    "bike.columns"
   ]
  },
  {
   "cell_type": "markdown",
   "metadata": {},
   "source": [
    "### Talk about some of the relationships you observed in this part of the investigation. How did the feature(s) of interest vary with other features in the dataset?\n",
    "* It was confirmed that `Age` and `Hour` have no linear relationship, supported by a correlation value close to 0\n",
    "* Average duration is relatively same in the evening and morning, but higher in the afternoon and lowest at night. This is quite understandable\n",
    "* The average age of customers drops from Morning to Night. Thus imples that younger customers tend to use the bike more in the night compared to the older customers\n",
    "* Some of the top start and end stations still maintained their position as top in overall duration used for the period\n",
    "* 8AM and 5PM hour have the highest period for both Male and Female customers\n",
    "* The percentage of the others per user_type is negligible, close to 0.\n",
    "\n",
    "\n",
    "### Did you observe any interesting relationships between the other features (not the main feature(s) of interest)?\n",
    "\n",
    "* It was surprising to discover that the Female gender spend more time on bike than the male, this may mean that they ride slower or the embark on longer distance than the male.\n",
    "\n",
    "* Further analysis, provided there is more female and Other data, to see the relations between the Male and Female along with Other."
   ]
  },
  {
   "cell_type": "markdown",
   "metadata": {},
   "source": [
    "## Multivariate Exploration"
   ]
  },
  {
   "cell_type": "markdown",
   "metadata": {},
   "source": [
    "Looking at some categorical features along with the trip duration"
   ]
  },
  {
   "cell_type": "code",
   "execution_count": 58,
   "metadata": {
    "scrolled": true
   },
   "outputs": [
    {
     "data": {
      "image/png": "[encoded data removed]",
      "text/plain": [
       "<Figure size 1080x288 with 2 Axes>"
      ]
     },
     "metadata": {
      "needs_background": "light"
     },
     "output_type": "display_data"
    }
   ],
   "source": [
    "# categorical features with trip duration using user_type as hue\n",
    "fig, ax = plt.subplots(ncols=2, figsize=[15,4])\n",
    "sns.barplot(data=bike, x='hour', y='duration', hue='bike_share_for_all_trip', errwidth=0, ax=ax[0])\n",
    "sns.barplot(data=bike, x='user_type', y='duration', hue='bike_share_for_all_trip', errwidth=0, ax=ax[1]);"
   ]
  },
  {
   "cell_type": "markdown",
   "metadata": {},
   "source": [
    "In the early hours 0, 1, 2, 3 and 23 the average bike duration is high for customers not sharing bikes. At 4hours the chart shows the highest duration for customers sharing bike.\n",
    "\n",
    "Majority of the Customer user_type do not share bike for all trips compared to the Subscriber User type and they spend more time on trip."
   ]
  },
  {
   "cell_type": "code",
   "execution_count": 59,
   "metadata": {},
   "outputs": [
    {
     "data": {
      "image/png": "[encoded data removed]",
      "text/plain": [
       "<Figure size 720x720 with 3 Axes>"
      ]
     },
     "metadata": {
      "needs_background": "light"
     },
     "output_type": "display_data"
    }
   ],
   "source": [
    "# categorical features with trip duration using user_type as hue\n",
    "fig, ax = plt.subplots(nrows=3, figsize=[10,10])\n",
    "sns.barplot(data=bike, x='user_type', y='duration', hue='member_gender', errwidth=0, ax=ax[0])\n",
    "sns.barplot(data=bike, x='day_period', y='duration', hue='member_gender', errwidth=0, ax=ax[1])\n",
    "sns.barplot(data=bike, x='bike_share_for_all_trip', y='duration', hue='member_gender', errwidth=0, ax=ax[2]);"
   ]
  },
  {
   "cell_type": "markdown",
   "metadata": {},
   "source": [
    "Generally, the average duration of User type Customer is higher than the duration of Subscribers. The Other gender appeared to use higher duration both as Customers or as Subcribers, and the Female gender having the lowest bike usage duration. This further buttress the claims above in the Bivariate.\n",
    "\n",
    "The average duration of Male and Female gender is fairly constant across all day period. The Other Gender has the highest duration at Night. At all period of the day the Male Gender used the lowest duration for trips.\n",
    "\n",
    "The duration for all customers who did not share bike for all trips is relatively higher than those who did."
   ]
  },
  {
   "cell_type": "markdown",
   "metadata": {},
   "source": [
    "### Duration, Age and Gender "
   ]
  },
  {
   "cell_type": "markdown",
   "metadata": {},
   "source": [
    "Let look at the relationship between Duration, Age and Gender"
   ]
  },
  {
   "cell_type": "code",
   "execution_count": 60,
   "metadata": {},
   "outputs": [],
   "source": [
    "#the histogram function\n",
    "def histogram(x, y, **kwargs):\n",
    "    plt.hist2d(x, y, cmin=0.5)"
   ]
  },
  {
   "cell_type": "code",
   "execution_count": 61,
   "metadata": {},
   "outputs": [
    {
     "data": {
      "image/png": "[encoded data removed]",
      "text/plain": [
       "<Figure size 864x288 with 3 Axes>"
      ]
     },
     "metadata": {
      "needs_background": "light"
     },
     "output_type": "display_data"
    }
   ],
   "source": [
    "#gender, age and duration relationship\n",
    "g = sns.FacetGrid(data = bike, col = 'member_gender', height=4)\n",
    "g.map(histogram, 'age', 'duration', color='inferno_r')\n",
    "g.set_xlabels('Age (years)')\n",
    "g.set_ylabels('Duration (min)')\n",
    "plt.show();"
   ]
  },
  {
   "cell_type": "markdown",
   "metadata": {},
   "source": [
    "The chart above is hard to interpret, let use a log transform of duration"
   ]
  },
  {
   "cell_type": "code",
   "execution_count": 62,
   "metadata": {},
   "outputs": [],
   "source": [
    "# compute the logarithm of price to make multivariate plotting easier\n",
    "def log_trans(x, inverse = False):\n",
    "    \"\"\" quick function for computing log and power operations \"\"\"\n",
    "    if not inverse:\n",
    "        return np.log10(x)\n",
    "    else:\n",
    "        return np.power(10, x)\n",
    "    \n",
    "\n",
    "    \n",
    "bike['log_duration'] = bike['duration'].apply(log_trans)"
   ]
  },
  {
   "cell_type": "code",
   "execution_count": 63,
   "metadata": {},
   "outputs": [],
   "source": [
    "#log enabled histogram\n",
    "def histogram(x, y, **kwargs):\n",
    "    palette=kwargs.pop('color')\n",
    "    bins_x =np.arange(18, bike.age.max()+2, 2)\n",
    "    bins_y =np.arange(0, 2+0.1, 0.1)\n",
    "    plt.hist2d(x, y, bins=[bins_x,bins_y], cmap=palette, cmin=0.5)\n",
    "    plt.yticks(log_trans(np.array([1,2,5,10,20,50,100])),[1,2,5,10,20,50,100])"
   ]
  },
  {
   "cell_type": "code",
   "execution_count": 64,
   "metadata": {},
   "outputs": [
    {
     "data": {
      "image/png": "[encoded data removed]",
      "text/plain": [
       "<Figure size 576x288 with 2 Axes>"
      ]
     },
     "metadata": {
      "needs_background": "light"
     },
     "output_type": "display_data"
    }
   ],
   "source": [
    "g = sns.FacetGrid(data = bike, col = 'user_type', size=4)\n",
    "g.map(histogram, 'age', 'log_duration', color='inferno_r')\n",
    "g.set_xlabels('Age (years)')\n",
    "g.set_ylabels('Duration (min)');"
   ]
  },
  {
   "cell_type": "markdown",
   "metadata": {},
   "source": [
    "Above it shows a wider and longer cluster in the subscribers meaning more older people are subscribers and shorter cluster height implicating shorter bike duration.\n",
    "On the other hand is the Customer having a narrow, short lenght and  taller height cluster, this means that the the customers are younger people and take longer duration trip."
   ]
  },
  {
   "cell_type": "markdown",
   "metadata": {},
   "source": [
    "### Talk about some of the relationships you observed in this part of the investigation. Were there features that strengthened each other in terms of looking at your feature(s) of interest?\n",
    "\n",
    "The multivariate analysis showed and emphasised more on the claims from the bivariate as well as the univariate analysis. \n",
    "\n",
    "Generally, the average duration of User type Customer is higher than the duration of Subscribers. The Other gender appeared to use higher duration both as Customers or as Subcribers, and the Male gender having the lowest bike usage duration. This further buttress the claims above in the Bivariate.\n",
    "\n",
    "The analysis showed that the average age of the customers is lower than the subscribers, impling that the subscribers are older people and the spend lower duration on trips.\n",
    "\n",
    "### Were there any interesting or surprising interactions between features?\n",
    "There was no surprising interactions, the multivariate only complimented the claims from above. The usually relationships between the categorical and numerical features continued."
   ]
  },
  {
   "cell_type": "markdown",
   "metadata": {},
   "source": [
    "## Conclusions\n",
    "> The member info contributed more to the bike usage as expected. \n",
    "\n",
    "* Most of the users are within the age of `25` and `40`\n",
    "* The users base is dominated by the `Male` Gender with over `70%`\n",
    "* The users categories; `Subscriber` and `Customers`, is also dominated by the Subscribers with over `90%` of them\n",
    "* The analysis showed top starting and ending station with `Market St at 10th St` and `San Francisco Caltrain Station 2(Townsend St at 4th St)` leading in both and respectively.\n",
    "* Most trips are taken in the morning and in the evening, further anaysis showed that the trip spike between the hour of `7` and `9` in the morning and `4PM` and `6PM` in the evening\n",
    "* Majority of the trips are between `5 - 25minutes` duration, using the normal distribution `90%` of the trip duration are less than `30minutes`\n",
    "* Only `10%` of the users prefer to share bike for all trips\n",
    "* It was also observed that `duration` and `age` have no linear relationship or correlation\n",
    "* The average `duration` for the `subscribers` is lower than that of the `customers`. \n",
    "* The `female` gender trip `duration` is higher, this is could mean they ride slower or embark on longer trip compared to the `Male` gender.\n",
    "* The average `age` for the other gender is the highest and that of the `Female` is the lowest.\n",
    "* Customers that do not share bike for trips spend have higher duration and the average age is higher compared to those that share\n",
    "* `8am` and `5am` records the highest `Male` and `Female`. The `Male` are the highest user for all the hour of the day\n",
    "* All gender experince the highest users in the `Morning` followed by `Evening`.\n",
    "* The average age of customers drops from `Morning` to `Night`. Thus imples that younger customers tend to use the bike more in the night compared to the older customers\n",
    "* The analysis also showed that the average `age` of the `customers` is lower than the `subscribers`, impling that the subscribers are older people and they spend lower duration on trips.\n",
    "\n",
    "\n",
    "\n",
    "> To achieve this the given dataset was wrangled, some of the steps taken are:\n",
    "* Extracted hour and day period from the start time\n",
    "* Extracted user age\n",
    "* converted the duration to minutes\n",
    "* some columns not needed were dropped\n",
    "* some high outliers were dropped"
   ]
  }
 ],
 "metadata": {
  "kernelspec": {
   "display_name": "Python 3 (ipykernel)",
   "language": "python",
   "name": "python3"
  },
  "language_info": {
   "codemirror_mode": {
    "name": "ipython",
    "version": 3
   },
   "file_extension": ".py",
   "mimetype": "text/x-python",
   "name": "python",
   "nbconvert_exporter": "python",
   "pygments_lexer": "ipython3",
   "version": "3.9.12"
  }
 },
 "nbformat": 4,
 "nbformat_minor": 2
}
